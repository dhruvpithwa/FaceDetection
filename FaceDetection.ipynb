{
 "cells": [
  {
   "cell_type": "code",
   "execution_count": null,
   "metadata": {
    "colab": {},
    "colab_type": "code",
    "id": "Ez9gjNtIRvmc"
   },
   "outputs": [],
   "source": [
    "!unzip subset.zip -d subset"
   ]
  },
  {
   "cell_type": "code",
   "execution_count": 31,
   "metadata": {
    "colab": {
     "base_uri": "https://localhost:8080/",
     "height": 588
    },
    "colab_type": "code",
    "id": "g7eR_pvVaBUY",
    "outputId": "b1704ffd-a1b7-44ea-f700-fb87c7aaee2b"
   },
   "outputs": [
    {
     "name": "stdout",
     "output_type": "stream",
     "text": [
      "[INFO] Object found. Saving locally.\n",
      "[INFO] Object found. Saving locally.\n",
      "[INFO] Object found. Saving locally.\n",
      "[INFO] Object found. Saving locally.\n",
      "[INFO] Object found. Saving locally.\n",
      "[INFO] Object found. Saving locally.\n",
      "[INFO] Object found. Saving locally.\n",
      "[INFO] Object found. Saving locally.\n",
      "[INFO] Object found. Saving locally.\n",
      "[INFO] Object found. Saving locally.\n",
      "[INFO] Object found. Saving locally.\n",
      "[INFO] Object found. Saving locally.\n",
      "[INFO] Object found. Saving locally.\n",
      "[INFO] Object found. Saving locally.\n",
      "[INFO] Object found. Saving locally.\n",
      "[INFO] Object found. Saving locally.\n",
      "[INFO] Object found. Saving locally.\n",
      "[INFO] Object found. Saving locally.\n",
      "[INFO] Object found. Saving locally.\n",
      "[INFO] Object found. Saving locally.\n",
      "[INFO] Object found. Saving locally.\n",
      "[INFO] Object found. Saving locally.\n",
      "[INFO] Object found. Saving locally.\n",
      "[INFO] Object found. Saving locally.\n",
      "[INFO] Object found. Saving locally.\n",
      "[INFO] Object found. Saving locally.\n",
      "[INFO] Object found. Saving locally.\n",
      "[INFO] Object found. Saving locally.\n",
      "[INFO] Object found. Saving locally.\n",
      "[INFO] Object found. Saving locally.\n",
      "[INFO] Object found. Saving locally.\n",
      "[INFO] Object found. Saving locally.\n",
      "[INFO] Object found. Saving locally.\n",
      "[INFO] Object found. Saving locally.\n"
     ]
    }
   ],
   "source": [
    "#Method1 Using Haar Cascade\n",
    "import cv2\n",
    "import sys\n",
    "import os\n",
    "\n",
    "li=os.listdir(\"./subset/subset\")\n",
    "\n",
    "faceCascade = cv2.CascadeClassifier('haarcascade_frontalface_default.xml')\n",
    "\n",
    "for i in li:\n",
    "\n",
    "    frame = cv2.imread(\"./subset/subset/\"+i);\n",
    "    gray = cv2.cvtColor(frame, cv2.COLOR_BGR2GRAY)\n",
    "\n",
    "    faces = faceCascade.detectMultiScale(\n",
    "        gray,\n",
    "        scaleFactor=1.1,\n",
    "        minNeighbors=5,\n",
    "        minSize=(30, 30),\n",
    "        flags=cv2.FONT_HERSHEY_SIMPLEX\n",
    "    )\n",
    "\n",
    "\n",
    "    for (x, y, w, h) in faces:\n",
    "        roi_color = frame[y:y + h, x:x + w] \n",
    "        print(\"[INFO] Object found. Saving locally.\") \n",
    "        cv2.imwrite('./subset/face_haarcascade/'+str(w) + str(h) + '_faces.jpg', roi_color)"
   ]
  },
  {
   "cell_type": "code",
   "execution_count": 32,
   "metadata": {
    "colab": {
     "base_uri": "https://localhost:8080/",
     "height": 487
    },
    "colab_type": "code",
    "id": "e9CKnzhQQ4_6",
    "outputId": "e3699aa6-d120-45a2-d33d-659f50525d95"
   },
   "outputs": [
    {
     "name": "stdout",
     "output_type": "stream",
     "text": [
      "updating: subset/face_haarcascade/ (stored 0%)\n",
      "  adding: subset/face_haarcascade/116116_faces.jpg (deflated 3%)\n",
      "  adding: subset/face_haarcascade/9999_faces.jpg (deflated 5%)\n",
      "  adding: subset/face_haarcascade/5757_faces.jpg (deflated 8%)\n",
      "  adding: subset/face_haarcascade/113113_faces.jpg (deflated 3%)\n",
      "  adding: subset/face_haarcascade/8383_faces.jpg (deflated 4%)\n",
      "  adding: subset/face_haarcascade/5858_faces.jpg (deflated 6%)\n",
      "  adding: subset/face_haarcascade/7272_faces.jpg (deflated 4%)\n",
      "  adding: subset/face_haarcascade/172172_faces.jpg (deflated 2%)\n",
      "  adding: subset/face_haarcascade/6060_faces.jpg (deflated 6%)\n",
      "  adding: subset/face_haarcascade/6969_faces.jpg (deflated 5%)\n",
      "  adding: subset/face_haarcascade/6262_faces.jpg (deflated 9%)\n",
      "  adding: subset/face_haarcascade/3838_faces.jpg (deflated 11%)\n",
      "  adding: subset/face_haarcascade/9090_faces.jpg (deflated 3%)\n",
      "  adding: subset/face_haarcascade/124124_faces.jpg (deflated 2%)\n",
      "  adding: subset/face_haarcascade/6666_faces.jpg (deflated 5%)\n",
      "  adding: subset/face_haarcascade/7373_faces.jpg (deflated 4%)\n",
      "  adding: subset/face_haarcascade/3535_faces.jpg (deflated 10%)\n",
      "  adding: subset/face_haarcascade/139139_faces.jpg (deflated 2%)\n",
      "  adding: subset/face_haarcascade/5656_faces.jpg (deflated 8%)\n",
      "  adding: subset/face_haarcascade/4444_faces.jpg (deflated 8%)\n",
      "  adding: subset/face_haarcascade/7878_faces.jpg (deflated 7%)\n",
      "  adding: subset/face_haarcascade/5353_faces.jpg (deflated 7%)\n",
      "  adding: subset/face_haarcascade/8282_faces.jpg (deflated 4%)\n",
      "  adding: subset/face_haarcascade/6868_faces.jpg (deflated 4%)\n",
      "  adding: subset/face_haarcascade/147147_faces.jpg (deflated 2%)\n",
      "  adding: subset/face_haarcascade/6363_faces.jpg (deflated 5%)\n",
      "  adding: subset/face_haarcascade/7676_faces.jpg (deflated 4%)\n"
     ]
    }
   ],
   "source": [
    "!zip -r ./subset/face_haarcascade.zip ./subset/face_haarcascade"
   ]
  },
  {
   "cell_type": "code",
   "execution_count": 24,
   "metadata": {
    "colab": {
     "base_uri": "https://localhost:8080/",
     "height": 524
    },
    "colab_type": "code",
    "id": "XLdp5RF6zysf",
    "outputId": "386e0f0d-5cbb-4e34-c088-eeee14012826"
   },
   "outputs": [
    {
     "name": "stdout",
     "output_type": "stream",
     "text": [
      "WARNING:tensorflow:5 out of the last 274 calls to <function Model.make_predict_function.<locals>.predict_function at 0x7fc4d1c71ae8> triggered tf.function retracing. Tracing is expensive and the excessive number of tracings could be due to (1) creating @tf.function repeatedly in a loop, (2) passing tensors with different shapes, (3) passing Python objects instead of tensors. For (1), please define your @tf.function outside of the loop. For (2), @tf.function has experimental_relax_shapes=True option that relaxes argument shapes that can avoid unnecessary retracing. For (3), please refer to https://www.tensorflow.org/tutorials/customization/performance#python_or_tensor_args and https://www.tensorflow.org/api_docs/python/tf/function for  more details.\n",
      "WARNING:tensorflow:6 out of the last 275 calls to <function Model.make_predict_function.<locals>.predict_function at 0x7fc4c7a2f2f0> triggered tf.function retracing. Tracing is expensive and the excessive number of tracings could be due to (1) creating @tf.function repeatedly in a loop, (2) passing tensors with different shapes, (3) passing Python objects instead of tensors. For (1), please define your @tf.function outside of the loop. For (2), @tf.function has experimental_relax_shapes=True option that relaxes argument shapes that can avoid unnecessary retracing. For (3), please refer to https://www.tensorflow.org/tutorials/customization/performance#python_or_tensor_args and https://www.tensorflow.org/api_docs/python/tf/function for  more details.\n",
      "[INFO] Object found. Saving locally.\n",
      "[INFO] Object found. Saving locally.\n",
      "[INFO] Object found. Saving locally.\n",
      "[INFO] Object found. Saving locally.\n",
      "[INFO] Object found. Saving locally.\n",
      "[INFO] Object found. Saving locally.\n",
      "[INFO] Object found. Saving locally.\n",
      "[INFO] Object found. Saving locally.\n",
      "[INFO] Object found. Saving locally.\n",
      "[INFO] Object found. Saving locally.\n",
      "[INFO] Object found. Saving locally.\n",
      "[INFO] Object found. Saving locally.\n",
      "[INFO] Object found. Saving locally.\n",
      "[INFO] Object found. Saving locally.\n",
      "[INFO] Object found. Saving locally.\n",
      "[INFO] Object found. Saving locally.\n",
      "[INFO] Object found. Saving locally.\n",
      "[INFO] Object found. Saving locally.\n",
      "[INFO] Object found. Saving locally.\n",
      "[INFO] Object found. Saving locally.\n",
      "[INFO] Object found. Saving locally.\n",
      "[INFO] Object found. Saving locally.\n",
      "[INFO] Object found. Saving locally.\n",
      "[INFO] Object found. Saving locally.\n",
      "[INFO] Object found. Saving locally.\n",
      "[INFO] Object found. Saving locally.\n",
      "[INFO] Object found. Saving locally.\n"
     ]
    }
   ],
   "source": [
    "#Method2 Using MTCNN\n",
    "import cv2\n",
    "import os\n",
    "from mtcnn.mtcnn import MTCNN\n",
    "\n",
    "li=os.listdir(\"./subset/subset\")\n",
    "\n",
    "detector = MTCNN()\n",
    "\n",
    "for i in li:\n",
    "\n",
    "    pixels = cv2.imread(\"./subset/subset/\"+i);\n",
    "\n",
    "    faces = detector.detect_faces(pixels)\n",
    "\n",
    "    for face in faces:\n",
    "          if face[\"confidence\"]>0.95:\n",
    "            x,y,w,h=face[\"box\"]\n",
    "            roi_color = pixels[y:y + h, x:x + w] \n",
    "            print(\"[INFO] Object found. Saving locally.\") \n",
    "            cv2.imwrite(\"./subset/faces/\"+str(w) + str(h) + '_faces.jpg', roi_color)"
   ]
  },
  {
   "cell_type": "code",
   "execution_count": 26,
   "metadata": {
    "colab": {
     "base_uri": "https://localhost:8080/",
     "height": 470
    },
    "colab_type": "code",
    "id": "rNBefNZD6JNy",
    "outputId": "14cc17eb-335e-416e-cb66-21ff92d60d4a"
   },
   "outputs": [
    {
     "name": "stdout",
     "output_type": "stream",
     "text": [
      "  adding: subset/faces/ (stored 0%)\n",
      "  adding: subset/faces/2835_faces.jpg (deflated 13%)\n",
      "  adding: subset/faces/7589_faces.jpg (deflated 4%)\n",
      "  adding: subset/faces/3440_faces.jpg (deflated 11%)\n",
      "  adding: subset/faces/3139_faces.jpg (deflated 13%)\n",
      "  adding: subset/faces/2734_faces.jpg (deflated 14%)\n",
      "  adding: subset/faces/2029_faces.jpg (deflated 20%)\n",
      "  adding: subset/faces/106142_faces.jpg (deflated 3%)\n",
      "  adding: subset/faces/4257_faces.jpg (deflated 7%)\n",
      "  adding: subset/faces/98123_faces.jpg (deflated 3%)\n",
      "  adding: subset/faces/2024_faces.jpg (deflated 18%)\n",
      "  adding: subset/faces/90112_faces.jpg (deflated 3%)\n",
      "  adding: subset/faces/4355_faces.jpg (deflated 7%)\n",
      "  adding: subset/faces/1823_faces.jpg (deflated 22%)\n",
      "  adding: subset/faces/4052_faces.jpg (deflated 10%)\n",
      "  adding: subset/faces/1620_faces.jpg (deflated 25%)\n",
      "  adding: subset/faces/2936_faces.jpg (deflated 14%)\n",
      "  adding: subset/faces/2935_faces.jpg (deflated 13%)\n",
      "  adding: subset/faces/3239_faces.jpg (deflated 14%)\n",
      "  adding: subset/faces/5973_faces.jpg (deflated 5%)\n",
      "  adding: subset/faces/6988_faces.jpg (deflated 4%)\n",
      "  adding: subset/faces/2228_faces.jpg (deflated 15%)\n",
      "  adding: subset/faces/2329_faces.jpg (deflated 17%)\n",
      "  adding: subset/faces/5364_faces.jpg (deflated 6%)\n",
      "  adding: subset/faces/5261_faces.jpg (deflated 6%)\n",
      "  adding: subset/faces/6075_faces.jpg (deflated 5%)\n",
      "  adding: subset/faces/8399_faces.jpg (deflated 4%)\n"
     ]
    }
   ],
   "source": [
    "!zip -r ./subset/faces.zip ./subset/faces"
   ]
  },
  {
   "cell_type": "code",
   "execution_count": null,
   "metadata": {
    "colab": {},
    "colab_type": "code",
    "id": "y21BlcUd77p0"
   },
   "outputs": [],
   "source": []
  }
 ],
 "metadata": {
  "colab": {
   "collapsed_sections": [],
   "name": "FaceDetection.ipynb",
   "provenance": []
  },
  "kernelspec": {
   "display_name": "Python 3",
   "language": "python",
   "name": "python3"
  },
  "language_info": {
   "codemirror_mode": {
    "name": "ipython",
    "version": 3
   },
   "file_extension": ".py",
   "mimetype": "text/x-python",
   "name": "python",
   "nbconvert_exporter": "python",
   "pygments_lexer": "ipython3",
   "version": "3.8.3"
  }
 },
 "nbformat": 4,
 "nbformat_minor": 1
}
